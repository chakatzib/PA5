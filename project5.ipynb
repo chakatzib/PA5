{
 "cells": [
  {
   "cell_type": "markdown",
   "id": "f33b81aa",
   "metadata": {},
   "source": [
    "# PROGRAMMING ASSIGNMENT 5\n",
    "## Joey Guthrie, CS150, 3/6/2023"
   ]
  },
  {
   "cell_type": "code",
   "execution_count": 20,
   "id": "e0671ae4",
   "metadata": {},
   "outputs": [
    {
     "name": "stdout",
     "output_type": "stream",
     "text": [
      "enter an English word to translate into Classical Ch'olti'. Enter 'quit' to stop.clothes\n",
      "the Classical Ch'olti' word for clothes is buk\n",
      "enter an English word to translate into Classical Ch'olti'. Enter 'quit' to stop.stop\n",
      "This word is not in the dictionary. Please try again.\n",
      "enter an English word to translate into Classical Ch'olti'. Enter 'quit' to stop.quit\n"
     ]
    }
   ],
   "source": [
    "words={'ant':'sayul',\n",
    "       'basket':'chach',\n",
    "       'bird':'chikul',\n",
    "      'book':'huun',\n",
    "      'clothes':'buk',\n",
    "      'creature':'bakul',\n",
    "      'day':\"k'in\",\n",
    "      'dog':\"tzul\",\n",
    "      'flower':'sijom',\n",
    "      'hand':\"k'abis\"}\n",
    "\n",
    "while True:\n",
    "    word=input(\"enter an English word to translate into Classical Ch'olti'. Enter 'quit' to stop.\")\n",
    "    if word=='quit':\n",
    "        break\n",
    "    elif word in words:\n",
    "        print(\"the Classical Ch'olti' word for\", word +\" is\",(words[word]))\n",
    "    else:\n",
    "        print(\"This word is not in the dictionary. Please try again.\")\n",
    "    \n",
    "    "
   ]
  },
  {
   "cell_type": "code",
   "execution_count": 8,
   "id": "4b7a208c",
   "metadata": {},
   "outputs": [
    {
     "name": "stdout",
     "output_type": "stream",
     "text": [
      "{1: 13.88888888888889}\n",
      "{2: 18.333333333333332}\n",
      "{3: 17.77777777777778}\n",
      "{4: 17.22222222222222}\n",
      "{5: 11.666666666666666}\n",
      "{6: 8.88888888888889}\n",
      "{7: 11.666666666666666}\n",
      "{8: 6.666666666666667}\n",
      "{9: 8.88888888888889}\n",
      "{10: 12.777777777777779}\n",
      "{11: 16.666666666666668}\n",
      "{12: 16.11111111111111}\n",
      "{13: 5.0}\n",
      "{14: 3.888888888888889}\n",
      "{15: 8.333333333333334}\n",
      "{16: 13.333333333333334}\n",
      "{17: 18.333333333333332}\n",
      "{18: 12.777777777777779}\n",
      "{19: 17.77777777777778}\n",
      "{20: 5.555555555555555}\n",
      "{21: 6.666666666666667}\n",
      "{22: 3.888888888888889}\n",
      "{23: 5.0}\n",
      "{24: 9.444444444444445}\n",
      "{25: 9.444444444444445}\n",
      "{26: 3.3333333333333335}\n",
      "{27: 11.666666666666666}\n",
      "{28: 15.555555555555555}\n",
      "{29: 10.555555555555555}\n",
      "{30: 4.444444444444445}\n",
      "{31: -1.1111111111111112}\n"
     ]
    }
   ],
   "source": [
    "Celcius={}\n",
    "January={1:57,\n",
    "        2:65,\n",
    "        3:64,\n",
    "        4:63,\n",
    "        5:53,\n",
    "        6:48,\n",
    "        7:53,\n",
    "        8:44,\n",
    "        9:48,\n",
    "        10:55,\n",
    "        11:62,\n",
    "        12:61,\n",
    "        13:41,\n",
    "        14:39,\n",
    "        15:47,\n",
    "         16:56,\n",
    "         17:65,\n",
    "         18:55,\n",
    "         19:64,\n",
    "         20:42,\n",
    "         21:44,\n",
    "         22:39,\n",
    "         23:41,\n",
    "         24:49,\n",
    "         25:49,\n",
    "         26:38,\n",
    "         27:53,\n",
    "         28:60,\n",
    "         29:51,\n",
    "         30:40,\n",
    "         31:30 }\n",
    "for i in dict(January):\n",
    "    Celciusvalue=(January.get(i))\n",
    "    Celciusreal=((Celciusvalue-32)*5/9)\n",
    "    Celcius={i:Celciusreal}\n",
    "  #  Celcius.update({i:Celciusvalue})\n",
    "    print(Celcius)\n",
    "    \n"
   ]
  },
  {
   "cell_type": "code",
   "execution_count": 12,
   "id": "436ca54f",
   "metadata": {},
   "outputs": [
    {
     "name": "stdout",
     "output_type": "stream",
     "text": [
      "{1: 1, 2: 4, 3: 9, 4: 16, 5: 25, 6: 36, 7: 49, 8: 64, 9: 81, 10: 100, 11: 121, 12: 144, 13: 169, 14: 196, 15: 225}\n"
     ]
    }
   ],
   "source": [
    "squareDict={1:'',2:'',3:'',4:'',5:'',6:'',7:'',8:'',9:'',10:'',11:'',12:'',13:'',14:'',15:''}\n",
    "for i in squareDict:\n",
    "    squareDict.update({i:i**2})\n",
    "print(squareDict)"
   ]
  },
  {
   "cell_type": "code",
   "execution_count": null,
   "id": "d969fe53",
   "metadata": {},
   "outputs": [],
   "source": []
  },
  {
   "cell_type": "code",
   "execution_count": null,
   "id": "334544cb",
   "metadata": {},
   "outputs": [],
   "source": []
  }
 ],
 "metadata": {
  "kernelspec": {
   "display_name": "Python 3 (ipykernel)",
   "language": "python",
   "name": "python3"
  },
  "language_info": {
   "codemirror_mode": {
    "name": "ipython",
    "version": 3
   },
   "file_extension": ".py",
   "mimetype": "text/x-python",
   "name": "python",
   "nbconvert_exporter": "python",
   "pygments_lexer": "ipython3",
   "version": "3.9.13"
  }
 },
 "nbformat": 4,
 "nbformat_minor": 5
}
